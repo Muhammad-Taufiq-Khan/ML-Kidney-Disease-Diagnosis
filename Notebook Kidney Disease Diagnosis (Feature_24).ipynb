{
  "cells": [
    {
      "cell_type": "markdown",
      "metadata": {
        "id": "view-in-github",
        "colab_type": "text"
      },
      "source": [
        "<a href=\"https://colab.research.google.com/github/Muhammad-Taufiq-Khan/ML-Kidney-Disease-Diagnosis/blob/main/Notebook%20Kidney%20Disease%20Diagnosis%20(Feature_24).ipynb\" target=\"_parent\"><img src=\"https://colab.research.google.com/assets/colab-badge.svg\" alt=\"Open In Colab\"/></a>"
      ]
    },
    {
      "cell_type": "markdown",
      "metadata": {
        "id": "WaITAFIkiR1U"
      },
      "source": [
        "# Chapter 0: Setup dependencies"
      ]
    },
    {
      "cell_type": "markdown",
      "metadata": {
        "id": "bJYJC0GY9sl6"
      },
      "source": [
        "## 0.1 Install Dependencies"
      ]
    },
    {
      "cell_type": "code",
      "execution_count": 246,
      "metadata": {
        "id": "65K2KpGFmJvn"
      },
      "outputs": [],
      "source": [
        "# ! pip install -U pandas-profiling"
      ]
    },
    {
      "cell_type": "markdown",
      "metadata": {
        "id": "bkrGBIK992jt"
      },
      "source": [
        "## 0.2 Import Dependencies"
      ]
    },
    {
      "cell_type": "code",
      "execution_count": 247,
      "metadata": {
        "id": "3_0VAgwLBKEF"
      },
      "outputs": [],
      "source": [
        "import time\n",
        "notebook_strtime = time.time()\n",
        "\n",
        "import numpy as np\n",
        "from numpy import mean\n",
        "from numpy import std\n",
        "\n",
        "import pandas as pd\n",
        "pd.set_option('display.max_columns', None)\n",
        "from pandas_profiling import ProfileReport\n",
        "\n",
        "import seaborn as sns\n",
        "import matplotlib.style as style\n",
        "style.use('seaborn-darkgrid')\n",
        "import matplotlib.pyplot as plt\n",
        "%matplotlib inline\n",
        "\n",
        "from sklearn.model_selection import train_test_split\n",
        "from sklearn.compose import make_column_transformer, make_column_selector\n",
        "from sklearn.preprocessing import OrdinalEncoder, LabelEncoder, MinMaxScaler\n",
        "from sklearn.impute import KNNImputer #import Knn Imputer\n",
        "from sklearn.neighbors import LocalOutlierFactor\n",
        "from imblearn.over_sampling import SMOTE\n",
        "from sklearn.pipeline import Pipeline\n",
        "\n",
        "\n",
        "#Importing Classification Models\n",
        "from sklearn.naive_bayes import MultinomialNB,GaussianNB\n",
        "from sklearn.svm import SVC\n",
        "from sklearn.linear_model import LogisticRegression\n",
        "from sklearn.tree import DecisionTreeClassifier\n",
        "from sklearn.ensemble import RandomForestClassifier, GradientBoostingClassifier, AdaBoostClassifier\n",
        "from sklearn.neighbors import KNeighborsClassifier\n",
        "from xgboost.sklearn import XGBClassifier\n",
        "\n",
        "\n",
        "from sklearn.model_selection import cross_val_score\n",
        "from sklearn.model_selection import RepeatedStratifiedKFold, GridSearchCV\n",
        "from sklearn.metrics import accuracy_score, confusion_matrix, ConfusionMatrixDisplay, classification_report\n",
        "\n",
        "from joblib import dump, load\n",
        "\n",
        "import warnings\n",
        "warnings.filterwarnings(action='ignore')"
      ]
    },
    {
      "cell_type": "markdown",
      "metadata": {
        "id": "Mn9X0THp9iQb"
      },
      "source": [
        "## 0.3 Fetch Dataset"
      ]
    },
    {
      "cell_type": "code",
      "execution_count": 248,
      "metadata": {
        "colab": {
          "base_uri": "https://localhost:8080/",
          "height": 427
        },
        "id": "wTD3lufJjR1f",
        "outputId": "26640581-70c0-4db1-da3a-6ee32b32608b"
      },
      "outputs": [
        {
          "output_type": "execute_result",
          "data": {
            "text/plain": [
              "      id   age    bp     sg   al   su       rbc        pc         pcc  \\\n",
              "120  120  72.0  90.0  1.025  1.0  3.0       NaN    normal  notpresent   \n",
              "336  336  25.0  60.0  1.020  0.0  0.0    normal    normal  notpresent   \n",
              "293  293  50.0   NaN  1.020  0.0  0.0    normal    normal  notpresent   \n",
              "180  180  73.0  90.0  1.010  1.0  4.0  abnormal  abnormal     present   \n",
              "365  365  24.0  80.0  1.020  0.0  0.0    normal    normal  notpresent   \n",
              "55    55  35.0  80.0  1.005  3.0  0.0  abnormal    normal  notpresent   \n",
              "312  312  80.0  70.0  1.020  0.0  0.0    normal    normal  notpresent   \n",
              "329  329  33.0  60.0  1.025  0.0  0.0    normal    normal  notpresent   \n",
              "357  357  66.0  70.0  1.025  0.0  0.0    normal    normal  notpresent   \n",
              "250  250  40.0  80.0  1.025  0.0  0.0    normal    normal  notpresent   \n",
              "\n",
              "             ba    bgr    bu   sc    sod  pot  hemo  pcv     wc   rc htn   dm  \\\n",
              "120  notpresent  323.0  40.0  2.2  137.0  5.3  12.6  NaN    NaN  NaN  no  yes   \n",
              "336  notpresent  119.0  27.0  0.5    NaN  NaN  15.2   40   9200  5.2  no   no   \n",
              "293  notpresent   92.0  19.0  1.2  150.0  4.8  14.9   48   4700  5.4  no   no   \n",
              "180  notpresent  234.0  56.0  1.9    NaN  NaN  10.3   28    NaN  NaN  no  yes   \n",
              "365  notpresent   93.0  46.0  1.0  145.0  3.5   NaN  NaN  10700  6.3  no   no   \n",
              "55   notpresent    NaN   NaN  NaN    NaN  NaN   9.5   28    NaN  NaN  no   no   \n",
              "312  notpresent    NaN   NaN  NaN  135.0  4.1  15.3   48   6300  6.1  no   no   \n",
              "329  notpresent   80.0  25.0  0.9  146.0  3.5  14.1   48   7800  5.1  no   no   \n",
              "357  notpresent  107.0  16.0  1.1  140.0  3.6  13.6   42  11000  4.9  no   no   \n",
              "250  notpresent  140.0  10.0  1.2  135.0  5.0  15.0   48  10400  4.5  no   no   \n",
              "\n",
              "     cad appet   pe ane classification  \n",
              "120  yes  poor   no  no            ckd  \n",
              "336   no  good   no  no         notckd  \n",
              "293   no  good   no  no         notckd  \n",
              "180   no  good   no  no            ckd  \n",
              "365   no  good   no  no         notckd  \n",
              "55    no  good  yes  no            ckd  \n",
              "312   no  good   no  no         notckd  \n",
              "329   no  good   no  no         notckd  \n",
              "357   no  good   no  no         notckd  \n",
              "250   no  good   no  no         notckd  "
            ],
            "text/html": [
              "\n",
              "  <div id=\"df-070fd55d-493d-4053-8da0-888af4ee1a20\">\n",
              "    <div class=\"colab-df-container\">\n",
              "      <div>\n",
              "<style scoped>\n",
              "    .dataframe tbody tr th:only-of-type {\n",
              "        vertical-align: middle;\n",
              "    }\n",
              "\n",
              "    .dataframe tbody tr th {\n",
              "        vertical-align: top;\n",
              "    }\n",
              "\n",
              "    .dataframe thead th {\n",
              "        text-align: right;\n",
              "    }\n",
              "</style>\n",
              "<table border=\"1\" class=\"dataframe\">\n",
              "  <thead>\n",
              "    <tr style=\"text-align: right;\">\n",
              "      <th></th>\n",
              "      <th>id</th>\n",
              "      <th>age</th>\n",
              "      <th>bp</th>\n",
              "      <th>sg</th>\n",
              "      <th>al</th>\n",
              "      <th>su</th>\n",
              "      <th>rbc</th>\n",
              "      <th>pc</th>\n",
              "      <th>pcc</th>\n",
              "      <th>ba</th>\n",
              "      <th>bgr</th>\n",
              "      <th>bu</th>\n",
              "      <th>sc</th>\n",
              "      <th>sod</th>\n",
              "      <th>pot</th>\n",
              "      <th>hemo</th>\n",
              "      <th>pcv</th>\n",
              "      <th>wc</th>\n",
              "      <th>rc</th>\n",
              "      <th>htn</th>\n",
              "      <th>dm</th>\n",
              "      <th>cad</th>\n",
              "      <th>appet</th>\n",
              "      <th>pe</th>\n",
              "      <th>ane</th>\n",
              "      <th>classification</th>\n",
              "    </tr>\n",
              "  </thead>\n",
              "  <tbody>\n",
              "    <tr>\n",
              "      <th>120</th>\n",
              "      <td>120</td>\n",
              "      <td>72.0</td>\n",
              "      <td>90.0</td>\n",
              "      <td>1.025</td>\n",
              "      <td>1.0</td>\n",
              "      <td>3.0</td>\n",
              "      <td>NaN</td>\n",
              "      <td>normal</td>\n",
              "      <td>notpresent</td>\n",
              "      <td>notpresent</td>\n",
              "      <td>323.0</td>\n",
              "      <td>40.0</td>\n",
              "      <td>2.2</td>\n",
              "      <td>137.0</td>\n",
              "      <td>5.3</td>\n",
              "      <td>12.6</td>\n",
              "      <td>NaN</td>\n",
              "      <td>NaN</td>\n",
              "      <td>NaN</td>\n",
              "      <td>no</td>\n",
              "      <td>yes</td>\n",
              "      <td>yes</td>\n",
              "      <td>poor</td>\n",
              "      <td>no</td>\n",
              "      <td>no</td>\n",
              "      <td>ckd</td>\n",
              "    </tr>\n",
              "    <tr>\n",
              "      <th>336</th>\n",
              "      <td>336</td>\n",
              "      <td>25.0</td>\n",
              "      <td>60.0</td>\n",
              "      <td>1.020</td>\n",
              "      <td>0.0</td>\n",
              "      <td>0.0</td>\n",
              "      <td>normal</td>\n",
              "      <td>normal</td>\n",
              "      <td>notpresent</td>\n",
              "      <td>notpresent</td>\n",
              "      <td>119.0</td>\n",
              "      <td>27.0</td>\n",
              "      <td>0.5</td>\n",
              "      <td>NaN</td>\n",
              "      <td>NaN</td>\n",
              "      <td>15.2</td>\n",
              "      <td>40</td>\n",
              "      <td>9200</td>\n",
              "      <td>5.2</td>\n",
              "      <td>no</td>\n",
              "      <td>no</td>\n",
              "      <td>no</td>\n",
              "      <td>good</td>\n",
              "      <td>no</td>\n",
              "      <td>no</td>\n",
              "      <td>notckd</td>\n",
              "    </tr>\n",
              "    <tr>\n",
              "      <th>293</th>\n",
              "      <td>293</td>\n",
              "      <td>50.0</td>\n",
              "      <td>NaN</td>\n",
              "      <td>1.020</td>\n",
              "      <td>0.0</td>\n",
              "      <td>0.0</td>\n",
              "      <td>normal</td>\n",
              "      <td>normal</td>\n",
              "      <td>notpresent</td>\n",
              "      <td>notpresent</td>\n",
              "      <td>92.0</td>\n",
              "      <td>19.0</td>\n",
              "      <td>1.2</td>\n",
              "      <td>150.0</td>\n",
              "      <td>4.8</td>\n",
              "      <td>14.9</td>\n",
              "      <td>48</td>\n",
              "      <td>4700</td>\n",
              "      <td>5.4</td>\n",
              "      <td>no</td>\n",
              "      <td>no</td>\n",
              "      <td>no</td>\n",
              "      <td>good</td>\n",
              "      <td>no</td>\n",
              "      <td>no</td>\n",
              "      <td>notckd</td>\n",
              "    </tr>\n",
              "    <tr>\n",
              "      <th>180</th>\n",
              "      <td>180</td>\n",
              "      <td>73.0</td>\n",
              "      <td>90.0</td>\n",
              "      <td>1.010</td>\n",
              "      <td>1.0</td>\n",
              "      <td>4.0</td>\n",
              "      <td>abnormal</td>\n",
              "      <td>abnormal</td>\n",
              "      <td>present</td>\n",
              "      <td>notpresent</td>\n",
              "      <td>234.0</td>\n",
              "      <td>56.0</td>\n",
              "      <td>1.9</td>\n",
              "      <td>NaN</td>\n",
              "      <td>NaN</td>\n",
              "      <td>10.3</td>\n",
              "      <td>28</td>\n",
              "      <td>NaN</td>\n",
              "      <td>NaN</td>\n",
              "      <td>no</td>\n",
              "      <td>yes</td>\n",
              "      <td>no</td>\n",
              "      <td>good</td>\n",
              "      <td>no</td>\n",
              "      <td>no</td>\n",
              "      <td>ckd</td>\n",
              "    </tr>\n",
              "    <tr>\n",
              "      <th>365</th>\n",
              "      <td>365</td>\n",
              "      <td>24.0</td>\n",
              "      <td>80.0</td>\n",
              "      <td>1.020</td>\n",
              "      <td>0.0</td>\n",
              "      <td>0.0</td>\n",
              "      <td>normal</td>\n",
              "      <td>normal</td>\n",
              "      <td>notpresent</td>\n",
              "      <td>notpresent</td>\n",
              "      <td>93.0</td>\n",
              "      <td>46.0</td>\n",
              "      <td>1.0</td>\n",
              "      <td>145.0</td>\n",
              "      <td>3.5</td>\n",
              "      <td>NaN</td>\n",
              "      <td>NaN</td>\n",
              "      <td>10700</td>\n",
              "      <td>6.3</td>\n",
              "      <td>no</td>\n",
              "      <td>no</td>\n",
              "      <td>no</td>\n",
              "      <td>good</td>\n",
              "      <td>no</td>\n",
              "      <td>no</td>\n",
              "      <td>notckd</td>\n",
              "    </tr>\n",
              "    <tr>\n",
              "      <th>55</th>\n",
              "      <td>55</td>\n",
              "      <td>35.0</td>\n",
              "      <td>80.0</td>\n",
              "      <td>1.005</td>\n",
              "      <td>3.0</td>\n",
              "      <td>0.0</td>\n",
              "      <td>abnormal</td>\n",
              "      <td>normal</td>\n",
              "      <td>notpresent</td>\n",
              "      <td>notpresent</td>\n",
              "      <td>NaN</td>\n",
              "      <td>NaN</td>\n",
              "      <td>NaN</td>\n",
              "      <td>NaN</td>\n",
              "      <td>NaN</td>\n",
              "      <td>9.5</td>\n",
              "      <td>28</td>\n",
              "      <td>NaN</td>\n",
              "      <td>NaN</td>\n",
              "      <td>no</td>\n",
              "      <td>no</td>\n",
              "      <td>no</td>\n",
              "      <td>good</td>\n",
              "      <td>yes</td>\n",
              "      <td>no</td>\n",
              "      <td>ckd</td>\n",
              "    </tr>\n",
              "    <tr>\n",
              "      <th>312</th>\n",
              "      <td>312</td>\n",
              "      <td>80.0</td>\n",
              "      <td>70.0</td>\n",
              "      <td>1.020</td>\n",
              "      <td>0.0</td>\n",
              "      <td>0.0</td>\n",
              "      <td>normal</td>\n",
              "      <td>normal</td>\n",
              "      <td>notpresent</td>\n",
              "      <td>notpresent</td>\n",
              "      <td>NaN</td>\n",
              "      <td>NaN</td>\n",
              "      <td>NaN</td>\n",
              "      <td>135.0</td>\n",
              "      <td>4.1</td>\n",
              "      <td>15.3</td>\n",
              "      <td>48</td>\n",
              "      <td>6300</td>\n",
              "      <td>6.1</td>\n",
              "      <td>no</td>\n",
              "      <td>no</td>\n",
              "      <td>no</td>\n",
              "      <td>good</td>\n",
              "      <td>no</td>\n",
              "      <td>no</td>\n",
              "      <td>notckd</td>\n",
              "    </tr>\n",
              "    <tr>\n",
              "      <th>329</th>\n",
              "      <td>329</td>\n",
              "      <td>33.0</td>\n",
              "      <td>60.0</td>\n",
              "      <td>1.025</td>\n",
              "      <td>0.0</td>\n",
              "      <td>0.0</td>\n",
              "      <td>normal</td>\n",
              "      <td>normal</td>\n",
              "      <td>notpresent</td>\n",
              "      <td>notpresent</td>\n",
              "      <td>80.0</td>\n",
              "      <td>25.0</td>\n",
              "      <td>0.9</td>\n",
              "      <td>146.0</td>\n",
              "      <td>3.5</td>\n",
              "      <td>14.1</td>\n",
              "      <td>48</td>\n",
              "      <td>7800</td>\n",
              "      <td>5.1</td>\n",
              "      <td>no</td>\n",
              "      <td>no</td>\n",
              "      <td>no</td>\n",
              "      <td>good</td>\n",
              "      <td>no</td>\n",
              "      <td>no</td>\n",
              "      <td>notckd</td>\n",
              "    </tr>\n",
              "    <tr>\n",
              "      <th>357</th>\n",
              "      <td>357</td>\n",
              "      <td>66.0</td>\n",
              "      <td>70.0</td>\n",
              "      <td>1.025</td>\n",
              "      <td>0.0</td>\n",
              "      <td>0.0</td>\n",
              "      <td>normal</td>\n",
              "      <td>normal</td>\n",
              "      <td>notpresent</td>\n",
              "      <td>notpresent</td>\n",
              "      <td>107.0</td>\n",
              "      <td>16.0</td>\n",
              "      <td>1.1</td>\n",
              "      <td>140.0</td>\n",
              "      <td>3.6</td>\n",
              "      <td>13.6</td>\n",
              "      <td>42</td>\n",
              "      <td>11000</td>\n",
              "      <td>4.9</td>\n",
              "      <td>no</td>\n",
              "      <td>no</td>\n",
              "      <td>no</td>\n",
              "      <td>good</td>\n",
              "      <td>no</td>\n",
              "      <td>no</td>\n",
              "      <td>notckd</td>\n",
              "    </tr>\n",
              "    <tr>\n",
              "      <th>250</th>\n",
              "      <td>250</td>\n",
              "      <td>40.0</td>\n",
              "      <td>80.0</td>\n",
              "      <td>1.025</td>\n",
              "      <td>0.0</td>\n",
              "      <td>0.0</td>\n",
              "      <td>normal</td>\n",
              "      <td>normal</td>\n",
              "      <td>notpresent</td>\n",
              "      <td>notpresent</td>\n",
              "      <td>140.0</td>\n",
              "      <td>10.0</td>\n",
              "      <td>1.2</td>\n",
              "      <td>135.0</td>\n",
              "      <td>5.0</td>\n",
              "      <td>15.0</td>\n",
              "      <td>48</td>\n",
              "      <td>10400</td>\n",
              "      <td>4.5</td>\n",
              "      <td>no</td>\n",
              "      <td>no</td>\n",
              "      <td>no</td>\n",
              "      <td>good</td>\n",
              "      <td>no</td>\n",
              "      <td>no</td>\n",
              "      <td>notckd</td>\n",
              "    </tr>\n",
              "  </tbody>\n",
              "</table>\n",
              "</div>\n",
              "      <button class=\"colab-df-convert\" onclick=\"convertToInteractive('df-070fd55d-493d-4053-8da0-888af4ee1a20')\"\n",
              "              title=\"Convert this dataframe to an interactive table.\"\n",
              "              style=\"display:none;\">\n",
              "        \n",
              "  <svg xmlns=\"http://www.w3.org/2000/svg\" height=\"24px\"viewBox=\"0 0 24 24\"\n",
              "       width=\"24px\">\n",
              "    <path d=\"M0 0h24v24H0V0z\" fill=\"none\"/>\n",
              "    <path d=\"M18.56 5.44l.94 2.06.94-2.06 2.06-.94-2.06-.94-.94-2.06-.94 2.06-2.06.94zm-11 1L8.5 8.5l.94-2.06 2.06-.94-2.06-.94L8.5 2.5l-.94 2.06-2.06.94zm10 10l.94 2.06.94-2.06 2.06-.94-2.06-.94-.94-2.06-.94 2.06-2.06.94z\"/><path d=\"M17.41 7.96l-1.37-1.37c-.4-.4-.92-.59-1.43-.59-.52 0-1.04.2-1.43.59L10.3 9.45l-7.72 7.72c-.78.78-.78 2.05 0 2.83L4 21.41c.39.39.9.59 1.41.59.51 0 1.02-.2 1.41-.59l7.78-7.78 2.81-2.81c.8-.78.8-2.07 0-2.86zM5.41 20L4 18.59l7.72-7.72 1.47 1.35L5.41 20z\"/>\n",
              "  </svg>\n",
              "      </button>\n",
              "      \n",
              "  <style>\n",
              "    .colab-df-container {\n",
              "      display:flex;\n",
              "      flex-wrap:wrap;\n",
              "      gap: 12px;\n",
              "    }\n",
              "\n",
              "    .colab-df-convert {\n",
              "      background-color: #E8F0FE;\n",
              "      border: none;\n",
              "      border-radius: 50%;\n",
              "      cursor: pointer;\n",
              "      display: none;\n",
              "      fill: #1967D2;\n",
              "      height: 32px;\n",
              "      padding: 0 0 0 0;\n",
              "      width: 32px;\n",
              "    }\n",
              "\n",
              "    .colab-df-convert:hover {\n",
              "      background-color: #E2EBFA;\n",
              "      box-shadow: 0px 1px 2px rgba(60, 64, 67, 0.3), 0px 1px 3px 1px rgba(60, 64, 67, 0.15);\n",
              "      fill: #174EA6;\n",
              "    }\n",
              "\n",
              "    [theme=dark] .colab-df-convert {\n",
              "      background-color: #3B4455;\n",
              "      fill: #D2E3FC;\n",
              "    }\n",
              "\n",
              "    [theme=dark] .colab-df-convert:hover {\n",
              "      background-color: #434B5C;\n",
              "      box-shadow: 0px 1px 3px 1px rgba(0, 0, 0, 0.15);\n",
              "      filter: drop-shadow(0px 1px 2px rgba(0, 0, 0, 0.3));\n",
              "      fill: #FFFFFF;\n",
              "    }\n",
              "  </style>\n",
              "\n",
              "      <script>\n",
              "        const buttonEl =\n",
              "          document.querySelector('#df-070fd55d-493d-4053-8da0-888af4ee1a20 button.colab-df-convert');\n",
              "        buttonEl.style.display =\n",
              "          google.colab.kernel.accessAllowed ? 'block' : 'none';\n",
              "\n",
              "        async function convertToInteractive(key) {\n",
              "          const element = document.querySelector('#df-070fd55d-493d-4053-8da0-888af4ee1a20');\n",
              "          const dataTable =\n",
              "            await google.colab.kernel.invokeFunction('convertToInteractive',\n",
              "                                                     [key], {});\n",
              "          if (!dataTable) return;\n",
              "\n",
              "          const docLinkHtml = 'Like what you see? Visit the ' +\n",
              "            '<a target=\"_blank\" href=https://colab.research.google.com/notebooks/data_table.ipynb>data table notebook</a>'\n",
              "            + ' to learn more about interactive tables.';\n",
              "          element.innerHTML = '';\n",
              "          dataTable['output_type'] = 'display_data';\n",
              "          await google.colab.output.renderOutput(dataTable, element);\n",
              "          const docLink = document.createElement('div');\n",
              "          docLink.innerHTML = docLinkHtml;\n",
              "          element.appendChild(docLink);\n",
              "        }\n",
              "      </script>\n",
              "    </div>\n",
              "  </div>\n",
              "  "
            ]
          },
          "metadata": {},
          "execution_count": 248
        }
      ],
      "source": [
        "#Fetch Data from my GitHub Repo\n",
        "url = \"https://raw.githubusercontent.com/Muhammad-Taufiq-Khan/ML-Kidney-Disease-Diagnosis/main/kidney_disease.csv\"\n",
        "dataframe = pd.read_csv(url)\n",
        "dataframe.sample(10)"
      ]
    },
    {
      "cell_type": "code",
      "execution_count": 249,
      "metadata": {
        "id": "uJSZ4Uq9nsAD"
      },
      "outputs": [],
      "source": [
        "#Rename Each Column\n",
        "dataframe.columns = [\"id\",\"age\", \"blood_pressure\", \"specific_gravety\", \"albumin\",\"sugar\" ,\"red_blood_cells\", \"pus_cell\", \"pus_cell_clumps\", \"bacteria\", \"blood_glucose_random\", \"blood _urea\", \"serum_creatinine\", \"sodium\", \"potassium\", \"hemoglobine\", \"packed_cell_volume\", \"white_blood_cell_count\", \"red_blood_cell_count\", \"hypertension\", \"diabetes_mellitias\", \"coronary_artery_disease\", \"appetite\", \"pedal_edema\", \"anemia\", \"ckd\" ]\n"
      ]
    },
    {
      "cell_type": "code",
      "execution_count": 250,
      "metadata": {
        "id": "KdcZKr7zRGL0"
      },
      "outputs": [],
      "source": [
        "def execution_duration(strtime):\n",
        "    endtime = time.time()\n",
        "    duration = endtime-strtime\n",
        "    print(f\"execution time: {round(duration,3)}s\")"
      ]
    },
    {
      "cell_type": "markdown",
      "metadata": {
        "id": "VHjZ-F_hi8SO"
      },
      "source": [
        "# Chapter 1: Exploratory Data Analysis"
      ]
    },
    {
      "cell_type": "code",
      "execution_count": 251,
      "metadata": {
        "id": "4pyV20vIjDs_"
      },
      "outputs": [],
      "source": [
        "# profile = ProfileReport(dataframe, title=\"CKD Dataset EDA Report\")\n",
        "# profile.to_file(\"EDA_report.html\")"
      ]
    },
    {
      "cell_type": "markdown",
      "metadata": {
        "id": "qfFdWLTnjENY"
      },
      "source": [
        "# Chapter 2: Cleaning data"
      ]
    },
    {
      "cell_type": "code",
      "execution_count": 252,
      "metadata": {
        "colab": {
          "base_uri": "https://localhost:8080/"
        },
        "id": "1-t3YJe2jPB0",
        "outputId": "b1b9fd10-24eb-4606-c114-ebb23c5a67a8"
      },
      "outputs": [
        {
          "output_type": "stream",
          "name": "stdout",
          "text": [
            "execution time: 0.069s\n",
            "<class 'pandas.core.frame.DataFrame'>\n",
            "RangeIndex: 400 entries, 0 to 399\n",
            "Data columns (total 26 columns):\n",
            " #   Column                   Non-Null Count  Dtype  \n",
            "---  ------                   --------------  -----  \n",
            " 0   id                       400 non-null    int64  \n",
            " 1   age                      391 non-null    float64\n",
            " 2   blood_pressure           388 non-null    float64\n",
            " 3   specific_gravety         353 non-null    float64\n",
            " 4   albumin                  354 non-null    float64\n",
            " 5   sugar                    351 non-null    float64\n",
            " 6   red_blood_cells          248 non-null    object \n",
            " 7   pus_cell                 335 non-null    object \n",
            " 8   pus_cell_clumps          396 non-null    object \n",
            " 9   bacteria                 396 non-null    object \n",
            " 10  blood_glucose_random     356 non-null    float64\n",
            " 11  blood _urea              381 non-null    float64\n",
            " 12  serum_creatinine         383 non-null    float64\n",
            " 13  sodium                   313 non-null    float64\n",
            " 14  potassium                312 non-null    float64\n",
            " 15  hemoglobine              348 non-null    float64\n",
            " 16  packed_cell_volume       329 non-null    float64\n",
            " 17  white_blood_cell_count   294 non-null    float64\n",
            " 18  red_blood_cell_count     269 non-null    float64\n",
            " 19  hypertension             398 non-null    object \n",
            " 20  diabetes_mellitias       398 non-null    object \n",
            " 21  coronary_artery_disease  398 non-null    object \n",
            " 22  appetite                 399 non-null    object \n",
            " 23  pedal_edema              399 non-null    object \n",
            " 24  anemia                   399 non-null    object \n",
            " 25  ckd                      400 non-null    object \n",
            "dtypes: float64(14), int64(1), object(11)\n",
            "memory usage: 81.4+ KB\n"
          ]
        }
      ],
      "source": [
        "def clean_dataset(dataframe):\n",
        "    strtime = time.time()\n",
        "    #Fix typing mistakes\n",
        "    # Col: 20\n",
        "    dataframe[\"diabetes_mellitias\"]= dataframe[\"diabetes_mellitias\"].map({'yes':'yes','no':'no',' yes':'yes', '\\tno':'no', '\\tyes':'yes'})\n",
        "    # Col 21\n",
        "    dataframe[\"coronary_artery_disease\"]= dataframe[\"coronary_artery_disease\"].map({'yes':'yes','no':'no', '\\tno':'no'})\n",
        "    # col 25\n",
        "    dataframe[\"ckd\"]= dataframe[\"ckd\"].map({'ckd':'ckd','ckd\\t':'ckd', 'notckd':'notckd'})\n",
        "\n",
        "    for i in range(dataframe.shape[0]):\n",
        "        # packed_cell_volume\n",
        "        if dataframe.iloc[i,16]=='\\t?':\n",
        "            dataframe.iloc[i,16]=np.nan\n",
        "        if dataframe.iloc[i,16]=='\\t43':\n",
        "            dataframe.iloc[i,16]='43'\n",
        "        # white_blood_cell_count\n",
        "        if dataframe.iloc[i,17]=='\\t?':\n",
        "            dataframe.iloc[i,17]=np.nan\n",
        "        if dataframe.iloc[i,17]=='\\t6200':\n",
        "            dataframe.iloc[i,17]= '6200'\n",
        "        if dataframe.iloc[i,17]=='\\t8400':\n",
        "            dataframe.iloc[i,17]= '6200'\n",
        "        # red_blood_cell_count\n",
        "        if dataframe.iloc[i,18]=='\\t?':\n",
        "            dataframe.iloc[i,18]=np.nan\n",
        "\n",
        "    # ##Show Unique values per Attribute\n",
        "    # for i in (dataframe):\n",
        "    #     print(f\"Attribute Name: {i}   Total Unique Value: {dataframe[i].nunique()} \\n Unique Values: {dataframe[i].unique()}\\n\")\n",
        "\n",
        "    # #Drop ID column as it's not needed further\n",
        "    # dataframe.drop('id',axis=1,inplace=True)\n",
        "\n",
        "\n",
        "    # Some numerical features are mistyped as strings.\n",
        "    mistyped=['packed_cell_volume','white_blood_cell_count','red_blood_cell_count']\n",
        "    # Storing Neumerical data into numeric list\n",
        "    numeric=[]\n",
        "    for i in dataframe.columns:\n",
        "        if dataframe[i].dtype=='float64':\n",
        "            numeric.append(i)\n",
        "    numeric=numeric+mistyped\n",
        "    # Storing Categorical feature's into a list.\n",
        "    categoricals=[]\n",
        "    for col in dataframe.columns:\n",
        "        if not col in numeric:\n",
        "            categoricals.append(col)\n",
        "    categoricals.remove('ckd')\n",
        "\n",
        "    for col in mistyped:\n",
        "            dataframe[col]=dataframe[col].astype('float')\n",
        "    \n",
        "    execution_duration(strtime)\n",
        "\n",
        "    return dataframe\n",
        "\n",
        "\n",
        "df = dataframe.copy()\n",
        "clean_df = clean_dataset(df)\n",
        "clean_df.info()"
      ]
    },
    {
      "cell_type": "markdown",
      "metadata": {
        "id": "iJwl83DjRi20"
      },
      "source": [
        "# Chapter 3: Splitting Dataset"
      ]
    },
    {
      "cell_type": "code",
      "execution_count": 253,
      "metadata": {
        "colab": {
          "base_uri": "https://localhost:8080/"
        },
        "id": "LosqHRTvRm2U",
        "outputId": "f5ae71d8-e4af-423e-ea55-4e16e863530f"
      },
      "outputs": [
        {
          "output_type": "stream",
          "name": "stdout",
          "text": [
            "(300, 24) (100, 24) (300,) (100,)\n"
          ]
        }
      ],
      "source": [
        "y = clean_df[\"ckd\"]\n",
        "X = clean_df.copy()\n",
        "X.drop(['id', 'ckd'], axis=1,inplace=True)\n",
        "\n",
        "X_train, X_test, y_train, y_test = train_test_split(X, y, test_size=0.25, random_state=40)\n",
        "print(X_train.shape, X_test.shape, y_train.shape, y_test.shape)"
      ]
    },
    {
      "cell_type": "code",
      "execution_count": 254,
      "metadata": {
        "colab": {
          "base_uri": "https://localhost:8080/",
          "height": 294
        },
        "id": "_KiujG4ySp-e",
        "outputId": "67319532-5d47-4103-e1b4-d7a36e5c2f04"
      },
      "outputs": [
        {
          "output_type": "execute_result",
          "data": {
            "text/plain": [
              "<matplotlib.axes._subplots.AxesSubplot at 0x7f99a7de0d90>"
            ]
          },
          "metadata": {},
          "execution_count": 254
        },
        {
          "output_type": "display_data",
          "data": {
            "text/plain": [
              "<Figure size 432x288 with 1 Axes>"
            ],
            "image/png": "[encoded data removed]"
          },
          "metadata": {
            "needs_background": "light"
          }
        }
      ],
      "source": [
        "sns.countplot(x=y_train)"
      ]
    },
    {
      "cell_type": "code",
      "execution_count": 255,
      "metadata": {
        "colab": {
          "base_uri": "https://localhost:8080/",
          "height": 294
        },
        "id": "kmhhP56-WsM_",
        "outputId": "538f82d0-fef5-46ce-ec5a-b91b5197b2f1"
      },
      "outputs": [
        {
          "output_type": "execute_result",
          "data": {
            "text/plain": [
              "<matplotlib.axes._subplots.AxesSubplot at 0x7f99a812e790>"
            ]
          },
          "metadata": {},
          "execution_count": 255
        },
        {
          "output_type": "display_data",
          "data": {
            "text/plain": [
              "<Figure size 432x288 with 1 Axes>"
            ],
            "image/png": "[encoded data removed]"
          },
          "metadata": {
            "needs_background": "light"
          }
        }
      ],
      "source": [
        "sns.countplot(x=y_test)"
      ]
    },
    {
      "cell_type": "markdown",
      "metadata": {
        "id": "3GGBmFWHYUqK"
      },
      "source": [
        "# Chapter 4: Preprocessing"
      ]
    },
    {
      "cell_type": "markdown",
      "metadata": {
        "id": "woMwfxTjY_MR"
      },
      "source": [
        "## 4.1 Encoding"
      ]
    },
    {
      "cell_type": "code",
      "execution_count": 256,
      "metadata": {
        "colab": {
          "base_uri": "https://localhost:8080/"
        },
        "id": "VMhKLFIgckUK",
        "outputId": "1f3354ec-fc02-4a0d-8d50-53f7e98cc619"
      },
      "outputs": [
        {
          "output_type": "stream",
          "name": "stdout",
          "text": [
            "execution time: 0.016s\n"
          ]
        },
        {
          "output_type": "execute_result",
          "data": {
            "text/plain": [
              "((300, 24), (300,))"
            ]
          },
          "metadata": {},
          "execution_count": 256
        }
      ],
      "source": [
        "def EncodingTrain(Xtrain, ytrain):\n",
        "    strtime = time.time()\n",
        "    ordinal_enc = OrdinalEncoder(handle_unknown='use_encoded_value', unknown_value=np.nan)\n",
        "    label_enc = LabelEncoder()\n",
        "    categoricals = Xtrain.select_dtypes(include=object)\n",
        "    numericals = Xtrain.select_dtypes(include=['int64','float64'])\n",
        "    numericals.reset_index(drop=True, inplace=True)\n",
        "    enc_categoricals = ordinal_enc.fit_transform(categoricals)\n",
        "    enc_ytrain = label_enc.fit_transform(ytrain)\n",
        "    enc_categoricals_df = pd.DataFrame(enc_categoricals, columns = list(categoricals.columns))\n",
        "    enc_Xtrain = pd.concat([numericals, enc_categoricals_df], axis=1)\n",
        "\n",
        "    execution_duration(strtime)\n",
        "    return enc_Xtrain, enc_ytrain, ordinal_enc, label_enc\n",
        "\n",
        "enc_Xtrain, enc_ytrain, ordinal_enc, label_enc = EncodingTrain(X_train, y_train)\n",
        "enc_Xtrain.shape, enc_ytrain.shape"
      ]
    },
    {
      "cell_type": "code",
      "execution_count": 257,
      "metadata": {
        "colab": {
          "base_uri": "https://localhost:8080/"
        },
        "id": "SKPsoQIR4B_b",
        "outputId": "d6fad130-3632-42f8-8a80-3bbfa20d993c"
      },
      "outputs": [
        {
          "output_type": "stream",
          "name": "stdout",
          "text": [
            "execution time: 0.008s\n",
            "(100, 24) (100,)\n"
          ]
        }
      ],
      "source": [
        "def EncodingTest(ordinal_enc, label_enc, Xtest, ytest):\n",
        "    strtime = time.time()\n",
        "    categoricals = Xtest.select_dtypes(include=object)\n",
        "    numericals = Xtest.select_dtypes(include=['int64','float64'])\n",
        "    numericals.reset_index(drop=True, inplace=True)\n",
        "    enc_categoricals = ordinal_enc.transform(categoricals)\n",
        "    enc_ytest = label_enc.transform(ytest)\n",
        "    enc_categoricals_df = pd.DataFrame(enc_categoricals, columns = list(categoricals.columns))\n",
        "    enc_Xtest = pd.concat([numericals, enc_categoricals_df], axis=1)\n",
        "\n",
        "    execution_duration(strtime)\n",
        "    return enc_Xtest, enc_ytest\n",
        "enc_Xtest, enc_ytest = EncodingTest(ordinal_enc, label_enc, X_test, y_test)\n",
        "print(enc_Xtest.shape, enc_ytest.shape)"
      ]
    },
    {
      "cell_type": "markdown",
      "metadata": {
        "id": "DFdw6meH-NER"
      },
      "source": [
        "## 4.2 Normalization"
      ]
    },
    {
      "cell_type": "code",
      "execution_count": 258,
      "metadata": {
        "colab": {
          "base_uri": "https://localhost:8080/"
        },
        "id": "tbFGMn4G7Ii7",
        "outputId": "bdaaaf19-58f3-4ddb-99f1-2fbe0f603061"
      },
      "outputs": [
        {
          "output_type": "execute_result",
          "data": {
            "text/plain": [
              "((300, 24), (100, 24))"
            ]
          },
          "metadata": {},
          "execution_count": 258
        }
      ],
      "source": [
        "normalizer = MinMaxScaler()\n",
        "X_train = normalizer.fit_transform(enc_Xtrain)\n",
        "X_test = normalizer.transform(enc_Xtest)\n",
        "X_train.shape, X_test.shape"
      ]
    },
    {
      "cell_type": "markdown",
      "metadata": {
        "id": "vXSb2jW1-zIl"
      },
      "source": [
        "## 4.3 Imputation"
      ]
    },
    {
      "cell_type": "code",
      "execution_count": 259,
      "metadata": {
        "colab": {
          "base_uri": "https://localhost:8080/",
          "height": 814
        },
        "id": "CevdAsHZ-oGh",
        "outputId": "402791be-5d54-490a-956f-700791ff612b"
      },
      "outputs": [
        {
          "output_type": "display_data",
          "data": {
            "text/plain": [
              "<Figure size 1440x720 with 1 Axes>"
            ],
            "image/png": "[encoded data removed]"
          },
          "metadata": {
            "needs_background": "light"
          }
        }
      ],
      "source": [
        "data = clean_df.copy()\n",
        "d=((data.isnull().sum()/data.shape[0])).sort_values(ascending=False)\n",
        "d.plot(kind='bar',\n",
        "       color=sns.cubehelix_palette(start=2,\n",
        "                                    rot=0.15,\n",
        "                                    dark=0.15,\n",
        "                                    light=0.95,\n",
        "                                    reverse=True,\n",
        "                                    n_colors=24),\n",
        "        figsize=(20,10))\n",
        "plt.title(\"\\nProportions of Missing Values in DataFrame:\\n\",fontsize=40)\n",
        "plt.show()"
      ]
    },
    {
      "cell_type": "code",
      "execution_count": 260,
      "metadata": {
        "colab": {
          "base_uri": "https://localhost:8080/"
        },
        "id": "LYPPj32X_pCY",
        "outputId": "d91d994f-6f33-458d-af55-4583f3e7a55a"
      },
      "outputs": [
        {
          "output_type": "execute_result",
          "data": {
            "text/plain": [
              "((300, 24), (100, 24))"
            ]
          },
          "metadata": {},
          "execution_count": 260
        }
      ],
      "source": [
        "imputer = KNNImputer(n_neighbors = 5) #Declaring that 15 nearest neighbour should be decided\n",
        "imputer.fit(X_train) #fitting imputer according to Training Features (X_train)\n",
        "\n",
        "X_train = imputer.transform(X_train) #Appling Imputation\n",
        "X_test = imputer.transform(X_test) #Appling Imputation\n",
        "X_train.shape, X_test.shape"
      ]
    },
    {
      "cell_type": "markdown",
      "metadata": {
        "id": "9T-K7HUQAl2Y"
      },
      "source": [
        "## 4.4 Outlier Detection and removing"
      ]
    },
    {
      "cell_type": "code",
      "execution_count": 261,
      "metadata": {
        "colab": {
          "base_uri": "https://localhost:8080/",
          "height": 335
        },
        "id": "3rzeQMfZAfzk",
        "outputId": "64bc7bc8-f1d2-4bb3-862c-585eb83ae50d"
      },
      "outputs": [
        {
          "output_type": "stream",
          "name": "stdout",
          "text": [
            "Outlier Detection and Removal from Training Dataset\n",
            "(300, 24) (300,)\n",
            "(262, 24) (262,)\n"
          ]
        },
        {
          "output_type": "execute_result",
          "data": {
            "text/plain": [
              "<matplotlib.axes._subplots.AxesSubplot at 0x7f99abb27820>"
            ]
          },
          "metadata": {},
          "execution_count": 261
        },
        {
          "output_type": "display_data",
          "data": {
            "text/plain": [
              "<Figure size 432x288 with 1 Axes>"
            ],
            "image/png": "[encoded data removed]"
          },
          "metadata": {
            "needs_background": "light"
          }
        }
      ],
      "source": [
        "# summarize the shape of the training dataset\n",
        "print(\"Outlier Detection and Removal from Training Dataset\")\n",
        "print(X_train.shape, enc_ytrain.shape)\n",
        "\n",
        "# identify outliers in the training dataset\n",
        "lof = LocalOutlierFactor(novelty=True)\n",
        "lof.fit(X_train)\n",
        "yhat = lof.predict(X_train)\n",
        "\n",
        "# select all rows that are not outliers\n",
        "mask = yhat != -1\n",
        "X_train, y_train = X_train[mask, :], enc_ytrain[mask]\n",
        "\n",
        "# summarize the shape of the updated testing dataset\n",
        "print(X_train.shape, y_train.shape)\n",
        "sns.countplot(x=y_train)"
      ]
    },
    {
      "cell_type": "markdown",
      "metadata": {
        "id": "7nVJ5K0JB8yl"
      },
      "source": [
        "## 4.5 Over Sampling\n",
        "\n"
      ]
    },
    {
      "cell_type": "code",
      "execution_count": 262,
      "metadata": {
        "colab": {
          "base_uri": "https://localhost:8080/",
          "height": 299
        },
        "id": "zqhtyyNuCGT1",
        "outputId": "a82c8126-8e5c-435f-844c-1dcabc5949ca"
      },
      "outputs": [
        {
          "output_type": "stream",
          "name": "stdout",
          "text": [
            "(292, 24) (292,)\n"
          ]
        },
        {
          "output_type": "execute_result",
          "data": {
            "text/plain": [
              "<matplotlib.axes._subplots.AxesSubplot at 0x7f99a15d5670>"
            ]
          },
          "metadata": {},
          "execution_count": 262
        },
        {
          "output_type": "display_data",
          "data": {
            "text/plain": [
              "<Figure size 432x288 with 1 Axes>"
            ],
            "image/png": "[encoded data removed]"
          },
          "metadata": {
            "needs_background": "light"
          }
        }
      ],
      "source": [
        "oversample = SMOTE()\n",
        "Xtrain, ytrain = oversample.fit_resample(X_train, y_train)\n",
        "print(Xtrain.shape, ytrain.shape)\n",
        "sns.countplot(x=ytrain)"
      ]
    },
    {
      "cell_type": "markdown",
      "metadata": {
        "id": "WhxrVhTbDWXk"
      },
      "source": [
        "# Chapter 5: Validation"
      ]
    },
    {
      "cell_type": "code",
      "execution_count": 263,
      "metadata": {
        "colab": {
          "base_uri": "https://localhost:8080/"
        },
        "id": "8ogwbW1YDFHf",
        "outputId": "37b9db6a-90c6-4a8b-89ad-ba3b5faca5a8"
      },
      "outputs": [
        {
          "output_type": "stream",
          "name": "stdout",
          "text": [
            "\n",
            "Model: SVC()---------------\n",
            "Accuracy: 97.84368 (2.29909)\n",
            "execution time: 0.48s\n",
            "\n",
            "Model: GaussianNB()---------------\n",
            "Accuracy: 97.94713 (2.36033)\n",
            "execution time: 0.166s\n",
            "\n",
            "Model: DecisionTreeClassifier()---------------\n",
            "Accuracy: 99.62299 (1.17816)\n",
            "execution time: 0.197s\n",
            "\n",
            "Model: RandomForestClassifier()---------------\n",
            "Accuracy: 99.65632 (1.03109)\n",
            "execution time: 11.878s\n",
            "\n",
            "Model: LogisticRegression()---------------\n",
            "Accuracy: 97.39770 (2.60823)\n",
            "execution time: 0.72s\n",
            "\n",
            "Model: KNeighborsClassifier()---------------\n",
            "Accuracy: 98.28736 (2.13722)\n",
            "execution time: 0.241s\n",
            "\n",
            "Model: GradientBoostingClassifier()---------------\n",
            "Accuracy: 99.62299 (1.17816)\n",
            "execution time: 6.245s\n",
            "\n",
            "Model: AdaBoostClassifier()---------------\n",
            "Accuracy: 99.62529 (1.06601)\n",
            "execution time: 6.899s\n",
            "\n",
            "Model: XGBClassifier()---------------\n",
            "Accuracy: 100.00000 (0.00000)\n",
            "execution time: 2.908s\n"
          ]
        }
      ],
      "source": [
        "cv = RepeatedStratifiedKFold(n_splits=10, n_repeats=10, random_state=1)\n",
        "models = [SVC(), \n",
        "          GaussianNB(), \n",
        "          DecisionTreeClassifier(), \n",
        "          RandomForestClassifier(), \n",
        "          LogisticRegression(), \n",
        "          KNeighborsClassifier(), \n",
        "          GradientBoostingClassifier(), \n",
        "          AdaBoostClassifier(), \n",
        "          XGBClassifier()]\n",
        "          \n",
        "def Validate(models):\n",
        "    for model in models:\n",
        "        strtime = time.time()\n",
        "        name = str(model)\n",
        "        steps = list()\n",
        "        steps.append((name, model))\n",
        "        pipeline = Pipeline(steps=steps)\n",
        "        # evaluate the model using cross-validation\n",
        "        scores = cross_val_score(pipeline, Xtrain, ytrain, scoring='accuracy', cv=cv, n_jobs=-1)\n",
        "        # report performance\n",
        "        print(f\"\\nModel: {name}---------------\")\n",
        "        print('Accuracy: %.5f (%.5f)' % (mean(scores)*100, std(scores)*100))\n",
        "        execution_duration(strtime)\n",
        "        \n",
        "Validate(models)"
      ]
    },
    {
      "cell_type": "markdown",
      "metadata": {
        "id": "YG0MIPxuJ1ZL"
      },
      "source": [
        "# Chapter 6: Hyerparameter Optimization"
      ]
    },
    {
      "cell_type": "code",
      "execution_count": 269,
      "metadata": {
        "colab": {
          "base_uri": "https://localhost:8080/"
        },
        "id": "e0qAO0CL5IyH",
        "outputId": "6e8d57c4-7d20-436a-9de8-d9d84b72bb5c"
      },
      "outputs": [
        {
          "output_type": "stream",
          "name": "stdout",
          "text": [
            "SVC()\n",
            "Fitting 25 folds for each of 288 candidates, totalling 7200 fits\n",
            "0.9890473407364115 SVC(C=1, decision_function_shape='ovo', degree=6, kernel='poly')\n",
            "execution time: 24.015s\n",
            "\n",
            "LogisticRegression()\n",
            "Fitting 25 folds for each of 36 candidates, totalling 900 fits\n",
            "0.9815663354763297 LogisticRegression(C=3)\n",
            "execution time: 1.974s\n",
            "\n",
            "KNeighborsClassifier()\n",
            "Fitting 25 folds for each of 192 candidates, totalling 4800 fits\n",
            "0.9829222676797196 KNeighborsClassifier(n_neighbors=7, p=1, weights='distance')\n",
            "execution time: 34.343s\n",
            "\n",
            "DecisionTreeClassifier()\n",
            "Fitting 25 folds for each of 24 candidates, totalling 600 fits\n",
            "0.9897603740502631 DecisionTreeClassifier(max_features='log2')\n",
            "execution time: 0.749s\n",
            "\n",
            "RandomForestClassifier()\n",
            "Fitting 25 folds for each of 48 candidates, totalling 1200 fits\n",
            "0.9972530683810638 RandomForestClassifier(max_features='log2', n_estimators=50)\n",
            "execution time: 123.069s\n",
            "\n",
            "GradientBoostingClassifier()\n",
            "Fitting 25 folds for each of 168 candidates, totalling 4200 fits\n",
            "0.9979427235534775 GradientBoostingClassifier(learning_rate=0.03, max_features='auto',\n",
            "                           n_estimators=50)\n",
            "execution time: 294.895s\n",
            "\n",
            "AdaBoostClassifier()\n",
            "Fitting 25 folds for each of 56 candidates, totalling 1400 fits\n",
            "1.0 AdaBoostClassifier(learning_rate=0.01)\n",
            "execution time: 254.71s\n",
            "\n",
            "XGBClassifier()\n",
            "Fitting 25 folds for each of 56 candidates, totalling 1400 fits\n",
            "1.0 XGBClassifier(learning_rate=0.03)\n",
            "execution time: 52.893s\n",
            "\n"
          ]
        }
      ],
      "source": [
        "SVM  =  SVC()\n",
        "GNB  =  GaussianNB()\n",
        "DT   =  DecisionTreeClassifier()\n",
        "RF   =  RandomForestClassifier() \n",
        "LR   =  LogisticRegression()\n",
        "KNN  =  KNeighborsClassifier() \n",
        "GB   =  GradientBoostingClassifier()\n",
        "AB   =  AdaBoostClassifier() \n",
        "XGB  =  XGBClassifier()\n",
        "\n",
        "estimators_dict = {\n",
        "    SVM:{\n",
        "    'C':range(1,4), \n",
        "    'kernel':('rbf','linear','poly', 'sigmoid'), \n",
        "    'degree':range(1,7), \n",
        "    'gamma': ('scale','auto'),\n",
        "    'decision_function_shape': ('ovo', 'ovr')\n",
        "    },\n",
        "\n",
        "    LR:{\n",
        "    'C':range(1,4), \n",
        "    'penalty':('l1','l2', 'None'), \n",
        "    'solver': ('lbfgs','liblinear', 'newton-cg', 'newton-cholesky')\n",
        "    },\n",
        "\n",
        "    KNN:{\n",
        "    'n_neighbors' : range(7,30,2),\n",
        "    'weights': ('uniform', 'distance'),\n",
        "    'algorithm': ('auto', 'ball_tree', 'kd_tree', 'brute'),\n",
        "    'p': [1,2]\n",
        "    },\n",
        "            \n",
        "    DT:{\n",
        "    'criterion': ('gini', 'entropy', 'log_loss'),\n",
        "    'splitter' : ('best', 'random'),\n",
        "    'max_features' : ('auto', 'sqrt', 'log2', 'none')\n",
        "    },\n",
        "        \n",
        "    RF:{\n",
        "    'n_estimators': range(50, 201, 50),\n",
        "    'criterion': ('gini', 'entropy', 'log_loss'),\n",
        "    'max_features' : ('auto', 'sqrt', 'log2', 'none')\n",
        "    },\n",
        "    \n",
        "    GB:{\n",
        "    'learning_rate': np.arange(0.01,0.15, 0.02),\n",
        "    'n_estimators': range(50,201,50),\n",
        "    'criterion': ('friedman_mse', 'squared_error'),\n",
        "    'max_features': ('auto', 'sqrt', 'log2')\n",
        "    },\n",
        "\n",
        "    AB:{\n",
        "    'learning_rate': np.arange(0.01,0.15, 0.02),\n",
        "    'n_estimators': range(50,201,50),\n",
        "    'algorithm': ('SAMME', 'SAMME.R')\n",
        "    },\n",
        "\n",
        "    XGB:{\n",
        "    'learning_rate': np.arange(0.01,0.15, 0.02),\n",
        "    'n_estimators': range(50,201,50),\n",
        "    'booster': ('gbtree','dart')\n",
        "    }\n",
        "}\n",
        "\n",
        "def Optimization(estimators_dict: dict, Xtrain, ytrain):\n",
        "    optimized_models = []\n",
        "    rskf = RepeatedStratifiedKFold(n_splits=5, n_repeats=3, random_state=1)\n",
        "    for estimator,param_grid in estimators_dict.items():\n",
        "        print(estimator)\n",
        "        strtime = time.time()\n",
        "        clf = GridSearchCV(estimator = estimator, \n",
        "                        param_grid = param_grid, \n",
        "                        cv=rskf, \n",
        "                        n_jobs=5,\n",
        "                        verbose=1,\n",
        "                        scoring = 'accuracy', \n",
        "                        return_train_score=True).fit(Xtrain, ytrain)\n",
        "\n",
        "        print(clf.best_score_, clf.best_estimator_)\n",
        "        execution_duration(strtime)\n",
        "        print()\n",
        "        optimized_models.append(clf.best_estimator_)\n",
        "    return optimized_models\n",
        "\n",
        "optimized_estimators = Optimization(estimators_dict, Xtrain, ytrain)"
      ]
    },
    {
      "cell_type": "markdown",
      "source": [
        "# Chapter 7: Testing and Evaluattion"
      ],
      "metadata": {
        "id": "16rTEgY2ZIiO"
      }
    },
    {
      "cell_type": "code",
      "source": [
        "for estimator in optimized_estimators:\n",
        "    print(estimator.__class__.__name__, estimator)"
      ],
      "metadata": {
        "colab": {
          "base_uri": "https://localhost:8080/"
        },
        "id": "fYWoiuU1USDw",
        "outputId": "5c288f5f-20c1-49cc-9471-e7ab4b5b3ff4"
      },
      "execution_count": 270,
      "outputs": [
        {
          "output_type": "stream",
          "name": "stdout",
          "text": [
            "SVC SVC(C=1, decision_function_shape='ovo', degree=6, kernel='poly')\n",
            "LogisticRegression LogisticRegression(C=3)\n",
            "KNeighborsClassifier KNeighborsClassifier(n_neighbors=7, p=1, weights='distance')\n",
            "DecisionTreeClassifier DecisionTreeClassifier(max_features='log2')\n",
            "RandomForestClassifier RandomForestClassifier(max_features='log2', n_estimators=50)\n",
            "GradientBoostingClassifier GradientBoostingClassifier(learning_rate=0.03, max_features='auto',\n",
            "                           n_estimators=50)\n",
            "AdaBoostClassifier AdaBoostClassifier(learning_rate=0.01)\n",
            "XGBClassifier XGBClassifier(learning_rate=0.03)\n"
          ]
        }
      ]
    },
    {
      "cell_type": "code",
      "source": [
        "def Evaluation(estimator, Xtrain, ytrain, X_test, y_test):\n",
        "    strtime=time.time()\n",
        "    print(estimator)\n",
        "    estimator.fit(Xtrain, ytrain)\n",
        "    pred = estimator.predict(X_test)\n",
        "    score = accuracy_score(y_test,pred)\n",
        "    # print(int(score*100))\n",
        "    report = classification_report(y_test,pred)\n",
        "    cm = confusion_matrix(y_test, pred, labels=estimator.classes_)\n",
        "    filename = str(X_test.shape[1])+\"_\"+str(estimator.__class__.__name__)+\"_\"+str(int(score*100))\n",
        "    dump(estimator, filename)\n",
        "    execution_duration(strtime)\n",
        "    print(report)\n",
        "    disp = ConfusionMatrixDisplay(confusion_matrix=cm,display_labels= ['CKD (0)', 'Not CKD (1)'])\n",
        "    disp.plot()\n",
        "    plt.show()\n",
        "\n",
        "for estimator in optimized_estimators:\n",
        "    Evaluation(estimator, Xtrain, ytrain, X_test, enc_ytest)\n",
        "    print()"
      ],
      "metadata": {
        "colab": {
          "base_uri": "https://localhost:8080/",
          "height": 1000
        },
        "id": "MPcF_sl-X4Wb",
        "outputId": "c950d159-048c-4c5b-ba9c-b6e2d70a7585"
      },
      "execution_count": 271,
      "outputs": [
        {
          "output_type": "stream",
          "name": "stdout",
          "text": [
            "SVC(C=1, decision_function_shape='ovo', degree=6, kernel='poly')\n",
            "execution time: 0.014s\n",
            "              precision    recall  f1-score   support\n",
            "\n",
            "           0       1.00      0.95      0.98        66\n",
            "           1       0.92      1.00      0.96        34\n",
            "\n",
            "    accuracy                           0.97       100\n",
            "   macro avg       0.96      0.98      0.97       100\n",
            "weighted avg       0.97      0.97      0.97       100\n",
            "\n"
          ]
        },
        {
          "output_type": "display_data",
          "data": {
            "text/plain": [
              "<Figure size 432x288 with 2 Axes>"
            ],
            "image/png": "[encoded data removed]"
          },
          "metadata": {
            "needs_background": "light"
          }
        },
        {
          "output_type": "stream",
          "name": "stdout",
          "text": [
            "\n",
            "LogisticRegression(C=3)\n",
            "execution time: 0.021s\n",
            "              precision    recall  f1-score   support\n",
            "\n",
            "           0       1.00      0.94      0.97        66\n",
            "           1       0.89      1.00      0.94        34\n",
            "\n",
            "    accuracy                           0.96       100\n",
            "   macro avg       0.95      0.97      0.96       100\n",
            "weighted avg       0.96      0.96      0.96       100\n",
            "\n"
          ]
        },
        {
          "output_type": "display_data",
          "data": {
            "text/plain": [
              "<Figure size 432x288 with 2 Axes>"
            ],
            "image/png": "[encoded data removed]"
          },
          "metadata": {
            "needs_background": "light"
          }
        },
        {
          "output_type": "stream",
          "name": "stdout",
          "text": [
            "\n",
            "KNeighborsClassifier(n_neighbors=7, p=1, weights='distance')\n",
            "execution time: 0.012s\n",
            "              precision    recall  f1-score   support\n",
            "\n",
            "           0       1.00      0.92      0.96        66\n",
            "           1       0.87      1.00      0.93        34\n",
            "\n",
            "    accuracy                           0.95       100\n",
            "   macro avg       0.94      0.96      0.95       100\n",
            "weighted avg       0.96      0.95      0.95       100\n",
            "\n"
          ]
        },
        {
          "output_type": "display_data",
          "data": {
            "text/plain": [
              "<Figure size 432x288 with 2 Axes>"
            ],
            "image/png": "[encoded data removed]"
          },
          "metadata": {
            "needs_background": "light"
          }
        },
        {
          "output_type": "stream",
          "name": "stdout",
          "text": [
            "\n",
            "DecisionTreeClassifier(max_features='log2')\n",
            "execution time: 0.012s\n",
            "              precision    recall  f1-score   support\n",
            "\n",
            "           0       1.00      0.97      0.98        66\n",
            "           1       0.94      1.00      0.97        34\n",
            "\n",
            "    accuracy                           0.98       100\n",
            "   macro avg       0.97      0.98      0.98       100\n",
            "weighted avg       0.98      0.98      0.98       100\n",
            "\n"
          ]
        },
        {
          "output_type": "display_data",
          "data": {
            "text/plain": [
              "<Figure size 432x288 with 2 Axes>"
            ],
            "image/png": "[encoded data removed]"
          },
          "metadata": {
            "needs_background": "light"
          }
        },
        {
          "output_type": "stream",
          "name": "stdout",
          "text": [
            "\n",
            "RandomForestClassifier(max_features='log2', n_estimators=50)\n",
            "execution time: 0.127s\n",
            "              precision    recall  f1-score   support\n",
            "\n",
            "           0       1.00      1.00      1.00        66\n",
            "           1       1.00      1.00      1.00        34\n",
            "\n",
            "    accuracy                           1.00       100\n",
            "   macro avg       1.00      1.00      1.00       100\n",
            "weighted avg       1.00      1.00      1.00       100\n",
            "\n"
          ]
        },
        {
          "output_type": "display_data",
          "data": {
            "text/plain": [
              "<Figure size 432x288 with 2 Axes>"
            ],
            "image/png": "[encoded data removed]"
          },
          "metadata": {
            "needs_background": "light"
          }
        },
        {
          "output_type": "stream",
          "name": "stdout",
          "text": [
            "\n",
            "GradientBoostingClassifier(learning_rate=0.03, max_features='auto',\n",
            "                           n_estimators=50)\n",
            "execution time: 0.059s\n",
            "              precision    recall  f1-score   support\n",
            "\n",
            "           0       1.00      0.97      0.98        66\n",
            "           1       0.94      1.00      0.97        34\n",
            "\n",
            "    accuracy                           0.98       100\n",
            "   macro avg       0.97      0.98      0.98       100\n",
            "weighted avg       0.98      0.98      0.98       100\n",
            "\n"
          ]
        },
        {
          "output_type": "display_data",
          "data": {
            "text/plain": [
              "<Figure size 432x288 with 2 Axes>"
            ],
            "image/png": "[encoded data removed]"
          },
          "metadata": {
            "needs_background": "light"
          }
        },
        {
          "output_type": "stream",
          "name": "stdout",
          "text": [
            "\n",
            "AdaBoostClassifier(learning_rate=0.01)\n",
            "execution time: 0.124s\n",
            "              precision    recall  f1-score   support\n",
            "\n",
            "           0       0.98      0.98      0.98        66\n",
            "           1       0.97      0.97      0.97        34\n",
            "\n",
            "    accuracy                           0.98       100\n",
            "   macro avg       0.98      0.98      0.98       100\n",
            "weighted avg       0.98      0.98      0.98       100\n",
            "\n"
          ]
        },
        {
          "output_type": "display_data",
          "data": {
            "text/plain": [
              "<Figure size 432x288 with 2 Axes>"
            ],
            "image/png": "[encoded data removed]"
          },
          "metadata": {
            "needs_background": "light"
          }
        },
        {
          "output_type": "stream",
          "name": "stdout",
          "text": [
            "\n",
            "XGBClassifier(learning_rate=0.03)\n",
            "execution time: 0.049s\n",
            "              precision    recall  f1-score   support\n",
            "\n",
            "           0       1.00      0.97      0.98        66\n",
            "           1       0.94      1.00      0.97        34\n",
            "\n",
            "    accuracy                           0.98       100\n",
            "   macro avg       0.97      0.98      0.98       100\n",
            "weighted avg       0.98      0.98      0.98       100\n",
            "\n"
          ]
        },
        {
          "output_type": "display_data",
          "data": {
            "text/plain": [
              "<Figure size 432x288 with 2 Axes>"
            ],
            "image/png": "[encoded data removed]"
          },
          "metadata": {
            "needs_background": "light"
          }
        },
        {
          "output_type": "stream",
          "name": "stdout",
          "text": [
            "\n"
          ]
        }
      ]
    },
    {
      "cell_type": "code",
      "source": [
        "notebook_endtime = execution_duration(notebook_strtime)"
      ],
      "metadata": {
        "colab": {
          "base_uri": "https://localhost:8080/"
        },
        "id": "7aajYVy-x2Ur",
        "outputId": "d3bb6226-9898-49e9-f015-dc3ee7e21aff"
      },
      "execution_count": 272,
      "outputs": [
        {
          "output_type": "stream",
          "name": "stdout",
          "text": [
            "execution time: 1979.555s\n"
          ]
        }
      ]
    }
  ],
  "metadata": {
    "colab": {
      "provenance": [],
      "authorship_tag": "ABX9TyM3WKmOhBuFvoWcNk33In3Q",
      "include_colab_link": true
    },
    "kernelspec": {
      "display_name": "Python 3",
      "name": "python3"
    },
    "language_info": {
      "name": "python"
    }
  },
  "nbformat": 4,
  "nbformat_minor": 0
}